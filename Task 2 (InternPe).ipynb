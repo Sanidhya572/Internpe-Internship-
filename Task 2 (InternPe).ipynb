{
 "cells": [
  {
   "cell_type": "code",
   "execution_count": 11,
   "id": "4bb55228",
   "metadata": {},
   "outputs": [],
   "source": [
    "# importing whole module\n",
    "from tkinter import *\n",
    "from tkinter.ttk import *"
   ]
  },
  {
   "cell_type": "code",
   "execution_count": 12,
   "id": "d8c2708f",
   "metadata": {},
   "outputs": [],
   "source": [
    "from time import strftime"
   ]
  },
  {
   "cell_type": "code",
   "execution_count": 13,
   "id": "5c4a6e7c",
   "metadata": {},
   "outputs": [
    {
     "data": {
      "text/plain": [
       "''"
      ]
     },
     "execution_count": 13,
     "metadata": {},
     "output_type": "execute_result"
    }
   ],
   "source": [
    "# creating tkinter window\n",
    "root = Tk()\n",
    "root.title('Clock')"
   ]
  },
  {
   "cell_type": "code",
   "execution_count": 14,
   "id": "ac68483b",
   "metadata": {},
   "outputs": [],
   "source": [
    "# display time on the label\n",
    " \n",
    "def time():\n",
    "    string = strftime('%H:%M:%S %p')\n",
    "    lbl.config(text=string)\n",
    "    lbl.after(1000, time)"
   ]
  },
  {
   "cell_type": "code",
   "execution_count": 15,
   "id": "bc53f7c9",
   "metadata": {},
   "outputs": [],
   "source": [
    "lbl = Label(root, font=('calibri', 40, 'bold'),\n",
    "            background='purple',\n",
    "            foreground='white')"
   ]
  },
  {
   "cell_type": "code",
   "execution_count": 16,
   "id": "fd70e348",
   "metadata": {},
   "outputs": [],
   "source": [
    "lbl.pack(anchor='center')\n",
    "time()"
   ]
  },
  {
   "cell_type": "code",
   "execution_count": 17,
   "id": "09248060",
   "metadata": {},
   "outputs": [],
   "source": [
    "mainloop()"
   ]
  }
 ],
 "metadata": {
  "kernelspec": {
   "display_name": "Python 3 (ipykernel)",
   "language": "python",
   "name": "python3"
  },
  "language_info": {
   "codemirror_mode": {
    "name": "ipython",
    "version": 3
   },
   "file_extension": ".py",
   "mimetype": "text/x-python",
   "name": "python",
   "nbconvert_exporter": "python",
   "pygments_lexer": "ipython3",
   "version": "3.9.13"
  }
 },
 "nbformat": 4,
 "nbformat_minor": 5
}
